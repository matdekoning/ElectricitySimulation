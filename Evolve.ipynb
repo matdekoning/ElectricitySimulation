{
 "cells": [
  {
   "cell_type": "code",
   "execution_count": 2,
   "metadata": {},
   "outputs": [],
   "source": [
    "import pandas as pd\n",
    "from Population import Individual,Population\n",
    "import plotly.express as px\n",
    "import plotly.graph_objects as go\n",
    "import os"
   ]
  },
  {
   "cell_type": "code",
   "execution_count": 1,
   "metadata": {},
   "outputs": [
    {
     "ename": "NameError",
     "evalue": "name 'Population' is not defined",
     "output_type": "error",
     "traceback": [
      "\u001b[1;31m---------------------------------------------------------------------------\u001b[0m",
      "\u001b[1;31mNameError\u001b[0m                                 Traceback (most recent call last)",
      "Cell \u001b[1;32mIn[1], line 3\u001b[0m\n\u001b[0;32m      1\u001b[0m \u001b[38;5;66;03m# Evolutionary algorythm\u001b[39;00m\n\u001b[1;32m----> 3\u001b[0m population \u001b[38;5;241m=\u001b[39m \u001b[43mPopulation\u001b[49m(size\u001b[38;5;241m=\u001b[39m\u001b[38;5;241m200\u001b[39m)\n\u001b[0;32m      4\u001b[0m \u001b[38;5;28;01mfor\u001b[39;00m generation \u001b[38;5;129;01min\u001b[39;00m \u001b[38;5;28mrange\u001b[39m(\u001b[38;5;241m80\u001b[39m):\n\u001b[0;32m      5\u001b[0m     population\u001b[38;5;241m.\u001b[39mnext_generation(mutation_rate\u001b[38;5;241m=\u001b[39m\u001b[38;5;241m0.1\u001b[39m)\n",
      "\u001b[1;31mNameError\u001b[0m: name 'Population' is not defined"
     ]
    }
   ],
   "source": [
    "# Evolutionary algorythm\n",
    "\n",
    "population = Population(size=200)\n",
    "for generation in range(80):\n",
    "    population.next_generation(mutation_rate=0.1)"
   ]
  },
  {
   "cell_type": "code",
   "execution_count": null,
   "metadata": {},
   "outputs": [],
   "source": [
    "\n",
    "# Simulate genes\n",
    "genes = {'Munchen': 400, 'Munchen_battery': 100, 'Bulgaria': 0, 'Bulgaria_battery': 0, 'Bulgaria-Munchen': 0, 'Italy': 0, 'Italy_battery': 0, \\\n",
    "         'Italy-Munchen': 0, 'Spain': 0, 'Spain_battery': 0, 'Spain-Munchen': 0, 'VlakteRaan': 0, 'VlakteRaan_battery': 0, 'VlakteRaan-Munchen': 0, \n",
    "         'Arkona': 0, 'Arkona_battery': 0, 'Arkona-Munchen': 0}\n",
    "top_gene = Individual(genes=list(genes.values()))\n",
    "df = top_gene.run_simulation(get_df=True)\n",
    "\n",
    "# Create a DataFrame with the datetime index\n",
    "plotter = pd.DataFrame({'Value': df.Balance.values})\n",
    "\n",
    "# Create an interactive line plot using Plotly Express\n",
    "fig = px.line(plotter, x=plotter.index, y='Value', title=f'Cost: {top_gene.base_cost}')\n",
    "\n",
    "# Show the interactive graph\n",
    "fig.show(renderer='browser')"
   ]
  },
  {
   "cell_type": "code",
   "execution_count": 28,
   "metadata": {},
   "outputs": [],
   "source": [
    "# Create subfolder for PNG files\n",
    "figs_to_save = []\n",
    "\n",
    "# Data definitions\n",
    "coords = {\n",
    "    'Munchen': (48.1, 11.6, 'Solar'),\n",
    "    'Munchen_battery': (48.1, 10.6, 'Battery'),\n",
    "    'Bulgaria': (42, 26, 'Solar'),\n",
    "    'Bulgaria_battery': (42, 25, 'Battery'),\n",
    "    'Italy': (37.5, 14.9, 'Solar'),\n",
    "    'Italy_battery': (37.5, 13.9, 'Battery'),\n",
    "    'Spain': (38.2, -5, 'Solar'),\n",
    "    'Spain_battery': (38.2, -6, 'Battery'),\n",
    "    'Arkona': (54.8, 13.5, 'Wind'),\n",
    "    'Arkona_battery': (54.8, 12.5, 'Battery'),\n",
    "    'VlakteRaan': (51.6, 4, 'Wind'),\n",
    "    'VlakteRaan_battery': (51.6, 3, 'Battery')\n",
    "}\n",
    "\n",
    "color_map = {\n",
    "    'Solar': 'gold',\n",
    "    'Wind': 'royalblue',    \n",
    "    'Battery': 'forestgreen' \n",
    "}\n",
    "\n",
    "df_coords = pd.DataFrame.from_dict(coords, orient='index', columns=[\"lat\", \"lon\", \"Type\"])\n",
    "\n",
    "# Visualize evolution\n",
    "top_sim_df = pd.read_csv('optimal_evolution.csv')\n",
    "for idx, row in top_sim_df.iterrows():\n",
    "    # Filter generation values and join with coordinates\n",
    "    generation_values = row.iloc[2:][~row.iloc[2:].index.str.contains('-')].to_frame(name=\"GW\")\n",
    "    df_merged = generation_values.join(df_coords, how=\"left\")\n",
    "    order = {'Battery': 0, 'Wind': 1, 'Solar': 2}\n",
    "    df_merged = df_merged.sort_values(by='Type', key=lambda col: col.map(order))\n",
    "    \n",
    "    # Create a mapbox-based scatter plot\n",
    "    scatter_fig = px.scatter_map(\n",
    "        df_merged, \n",
    "        lat=\"lat\", \n",
    "        lon=\"lon\",\n",
    "        size=\"GW\", \n",
    "        color='Type',\n",
    "        color_discrete_map=color_map,\n",
    "        zoom=4, \n",
    "        map_style=\"open-street-map\",\n",
    "        size_max=50, \n",
    "        title=f'Generation: {row[\"Generation\"]}, Cost: {row[\"Total Cost\"]}',\n",
    "        opacity=1\n",
    "    )\n",
    "\n",
    "    \n",
    "    # Add an additional mapbox trace (instead of a geo trace)\n",
    "    scatter_fig.add_trace(\n",
    "        go.Scattermap(\n",
    "            lon=[-5, 10.6],\n",
    "            lat=[38.2, 48.1],\n",
    "            mode='lines',\n",
    "            line=dict(width=row['Spain-Munchen']/100, color='black'),\n",
    "            name=\"Spain\",\n",
    "            opacity=0.7,\n",
    "            showlegend=False\n",
    "        )\n",
    "    )\n",
    "\n",
    "    scatter_fig.add_trace(\n",
    "        go.Scattermap(\n",
    "            lon=[14.9, 10.6],\n",
    "            lat=[37.5, 48.1],\n",
    "            mode='lines',\n",
    "            line=dict(width=row['Italy-Munchen']/100, color='black'),\n",
    "            name=\"Italy\",\n",
    "            opacity=0.7,\n",
    "            showlegend=False\n",
    "        )\n",
    "    )\n",
    "\n",
    "    scatter_fig.add_trace(\n",
    "        go.Scattermap(\n",
    "            lon=[26, 10.6],\n",
    "            lat=[42, 48.1],\n",
    "            mode='lines',\n",
    "            line=dict(width=row['Bulgaria-Munchen']/100, color='black'),\n",
    "            name=\"Bulgaria\",\n",
    "            opacity=0.7,\n",
    "            showlegend=False\n",
    "        )\n",
    "    )\n",
    "\n",
    "    scatter_fig.add_trace(\n",
    "        go.Scattermap(\n",
    "            lon=[13.5, 10.6],\n",
    "            lat=[54.8, 48.1],\n",
    "            mode='lines',\n",
    "            line=dict(width=row['Arkona-Munchen']/100, color='black'),\n",
    "            name=\"Arkona\",\n",
    "            opacity=0.7,\n",
    "            showlegend=False\n",
    "        )\n",
    "    )\n",
    "\n",
    "    scatter_fig.add_trace(\n",
    "        go.Scattermap(\n",
    "            lon=[4, 10.6],\n",
    "            lat=[51.6, 48.1],\n",
    "            mode='lines',\n",
    "            line=dict(width=row['VlakteRaan-Munchen']/100, color='black'),\n",
    "            name=\"Vlakte van Raan\",\n",
    "            opacity=0.7,\n",
    "            showlegend=False\n",
    "        )\n",
    "    )\n",
    "\n",
    "    figs_to_save.append(scatter_fig)\n"
   ]
  },
  {
   "cell_type": "code",
   "execution_count": 63,
   "metadata": {},
   "outputs": [],
   "source": [
    "figs_to_save[-1].show(renderer='browser')"
   ]
  },
  {
   "cell_type": "code",
   "execution_count": 70,
   "metadata": {},
   "outputs": [
    {
     "name": "stderr",
     "output_type": "stream",
     "text": [
      "C:\\Users\\matde\\AppData\\Local\\Temp\\ipykernel_20948\\3663568946.py:3: DeprecationWarning:\n",
      "\n",
      "Starting with ImageIO v3 the behavior of this function will switch to that of iio.v3.imread. To keep the current behavior (and make this warning disappear) use `import imageio.v2 as imageio` or call `imageio.v2.imread` directly.\n",
      "\n"
     ]
    }
   ],
   "source": [
    "png_folder = r'C:\\Users\\matde\\Downloads\\gif_evolution'\n",
    "png_files = sorted([os.path.join(png_folder, f) for f in os.listdir(png_folder) if f.endswith(\".png\")])\n",
    "frames = [imageio.imread(png) for png in png_files]\n",
    "imageio.mimsave(\"map_animation.gif\", frames, duration=0.2, loop=1)"
   ]
  },
  {
   "cell_type": "code",
   "execution_count": 74,
   "metadata": {},
   "outputs": [],
   "source": [
    "from PIL import Image\n",
    "import os\n",
    "\n",
    "png_files = sorted([os.path.join(png_folder, f) for f in os.listdir(png_folder) if f.endswith(\".png\")])\n",
    "frames = [Image.open(png) for png in png_files]\n",
    "\n",
    "# Append an extra copy of the final frame.\n",
    "frames.append(frames[-1])\n",
    "\n",
    "# Set durations: 200ms for each normal frame, and 2000ms for the extra (final) frame.\n",
    "durations = [200] * (len(frames) - 1) + [2000]\n",
    "\n",
    "frames[0].save(\"map_animation.gif\",\n",
    "               format=\"GIF\",\n",
    "               append_images=frames[1:],\n",
    "               save_all=True,\n",
    "               duration=durations,\n",
    "               loop=0)\n"
   ]
  },
  {
   "cell_type": "code",
   "execution_count": null,
   "metadata": {},
   "outputs": [],
   "source": []
  }
 ],
 "metadata": {
  "kernelspec": {
   "display_name": "Python 3",
   "language": "python",
   "name": "python3"
  },
  "language_info": {
   "codemirror_mode": {
    "name": "ipython",
    "version": 3
   },
   "file_extension": ".py",
   "mimetype": "text/x-python",
   "name": "python",
   "nbconvert_exporter": "python",
   "pygments_lexer": "ipython3",
   "version": "3.12.9"
  }
 },
 "nbformat": 4,
 "nbformat_minor": 2
}
